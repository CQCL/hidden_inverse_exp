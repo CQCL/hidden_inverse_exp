{
 "cells": [
  {
   "cell_type": "markdown",
   "metadata": {},
   "source": [
    "# Hidden Inverse Circuits for Coherent Error Supression "
   ]
  },
  {
   "cell_type": "markdown",
   "metadata": {},
   "source": [
    "**Key reference:** https://arxiv.org/abs/2104.01119\n",
    "\n",
    "**Idea:** Self adjoint gates such as CX have two equivalent decompositons into hardware native gates. Find symmetric circuits and use both decompostions to cancel coherent errors.\n",
    "\n",
    "If we have a matrix $M$ satisfying $M=M^\\dagger$ we say that $M$ is self adjoint.\n",
    "We can decompose this matrix $M$ in two ways. "
   ]
  },
  {
   "cell_type": "markdown",
   "metadata": {},
   "source": [
    "$$\n",
    "\\begin{equation}\n",
    "M = ABC = C^\\dagger  B^\\dagger  A^\\dagger = M^\\dagger\n",
    "\\end{equation}\n",
    "$$"
   ]
  },
  {
   "cell_type": "markdown",
   "metadata": {},
   "source": [
    "Here $M$ represents the unitary (and self-adjoint) matrix associated with a two qubit gate.\n"
   ]
  },
  {
   "cell_type": "markdown",
   "metadata": {},
   "source": [
    "![alt text](images/inverses_screenshot.png \"Title\")"
   ]
  },
  {
   "cell_type": "markdown",
   "metadata": {},
   "source": [
    "![alt text](images/gadget_screenshot.png \"Title\")"
   ]
  },
  {
   "cell_type": "markdown",
   "metadata": {},
   "source": [
    "**My github repository:** https://github.com/CQCL/hidden_inverse_exp"
   ]
  },
  {
   "cell_type": "markdown",
   "metadata": {},
   "source": [
    "## Getting the Hidden Inverses"
   ]
  },
  {
   "cell_type": "code",
   "execution_count": null,
   "metadata": {},
   "outputs": [],
   "source": [
    "from hseries_decompositions import get_hidden_inverse_circuits_1q, get_hidden_inverse_circuits_2q\n",
    "from pytket.circuit.display import render_circuit_jupyter\n",
    "from pytket.utils import compare_unitaries\n",
    "import numpy as np"
   ]
  },
  {
   "cell_type": "code",
   "execution_count": null,
   "metadata": {},
   "outputs": [],
   "source": [
    "cx_matrix = np.array([[1, 0, 0, 0], [0, 1, 0, 0], [0, 0, 0, 1], [0, 0, 1, 0]])\n",
    "#cz_matrix = np.array([[1, 0, 0, 0], [0, 1, 0, 0], [0, 0, 1, 0], [0, 0, 0, -1]])\n",
    "y_matrix = np.array([[0, -1j], [1j, 0]])\n",
    "\n",
    "c1, c2 = get_hidden_inverse_circuits_2q(cx_matrix)\n",
    "#y1, y2 = get_hidden_inverse_circuits_1q(y_matrix)\n",
    "\n",
    "render_circuit_jupyter(c1)\n",
    "render_circuit_jupyter(c2)\n",
    "#render_circuit_jupyter(y1)\n",
    "#render_circuit_jupyter(y2)\n",
    "print(\"Equivalent unitaries?\", compare_unitaries(c1.get_unitary(), c2.get_unitary()))"
   ]
  },
  {
   "cell_type": "markdown",
   "metadata": {},
   "source": [
    "## Phase and Pauli Gadgets"
   ]
  },
  {
   "cell_type": "code",
   "execution_count": null,
   "metadata": {},
   "outputs": [],
   "source": [
    "from utils.circuit_builders import get_phase_gadget, get_pauli_gadget\n",
    "from phase_gadget_pass import phase_gadget_hi_pass"
   ]
  },
  {
   "cell_type": "code",
   "execution_count": null,
   "metadata": {},
   "outputs": [],
   "source": [
    "phase_gadget_circ = get_phase_gadget(0.7, 2)\n",
    "render_circuit_jupyter(phase_gadget_circ)"
   ]
  },
  {
   "cell_type": "code",
   "execution_count": null,
   "metadata": {},
   "outputs": [],
   "source": [
    "phase_gadget_hi_pass.apply(phase_gadget_circ)"
   ]
  },
  {
   "cell_type": "code",
   "execution_count": null,
   "metadata": {},
   "outputs": [],
   "source": [
    "render_circuit_jupyter(phase_gadget_circ)"
   ]
  },
  {
   "cell_type": "code",
   "execution_count": null,
   "metadata": {},
   "outputs": [],
   "source": [
    "from pauli_gadget_pass import single_pauli_gadget_hi_pass, general_pauli_gadget_hi_pass\n",
    "\n",
    "pauli_xyzy_circ = get_pauli_gadget(\"XYZ\", 0.65)\n",
    "render_circuit_jupyter(pauli_xyzy_circ)\n",
    "u1 = pauli_xyzy_circ.get_unitary()"
   ]
  },
  {
   "cell_type": "code",
   "execution_count": null,
   "metadata": {},
   "outputs": [],
   "source": [
    "single_pauli_gadget_hi_pass.apply(pauli_xyzy_circ)\n",
    "u2 = pauli_xyzy_circ.get_unitary()"
   ]
  },
  {
   "cell_type": "code",
   "execution_count": null,
   "metadata": {},
   "outputs": [],
   "source": [
    "render_circuit_jupyter(pauli_xyzy_circ)\n",
    "print(\"Is the pass unitary preserving?\", compare_unitaries(u1, u2))"
   ]
  },
  {
   "cell_type": "markdown",
   "metadata": {},
   "source": [
    "We can also decompose circuits composed of many Pauli gadgets provided the gadgets are expressed as `PauliExpBox`(es) or `PhasePolyBox`(es). This restriction could in principle be removed."
   ]
  },
  {
   "cell_type": "code",
   "execution_count": null,
   "metadata": {},
   "outputs": [],
   "source": [
    "from pytket import Circuit\n",
    "\n",
    "xyzz = get_pauli_gadget(\"XYZZ\", 0.65, decompose=False)\n",
    "zyxx = get_pauli_gadget(\"ZYXX\", 0.8, decompose=False)\n",
    "xxxx = get_pauli_gadget(\"XXXX\", 0.2, decompose=False)\n",
    "\n",
    "circ = Circuit(4)\n",
    "circ.append(xyzz)\n",
    "circ.append(zyxx)\n",
    "circ.append(xxxx)\n",
    "\n",
    "stored_circ = circ.copy()\n",
    "render_circuit_jupyter(circ)\n",
    "u_before = circ.get_unitary()"
   ]
  },
  {
   "cell_type": "code",
   "execution_count": null,
   "metadata": {},
   "outputs": [],
   "source": [
    "from pytket.passes import SequencePass, RemoveRedundancies\n",
    "from pauli_gadget_pass import general_pauli_gadget_hi_pass\n",
    "from hseries_decompositions import hseries_squash\n",
    "\n",
    "# idea for a custom sequence\n",
    "custom_seq = SequencePass([general_pauli_gadget_hi_pass, hseries_squash, RemoveRedundancies()])"
   ]
  },
  {
   "cell_type": "code",
   "execution_count": null,
   "metadata": {},
   "outputs": [],
   "source": [
    "custom_seq.apply(circ)"
   ]
  },
  {
   "cell_type": "markdown",
   "metadata": {},
   "source": [
    "**Concern:** If we jump straight from Pauli gadgets (hardware independent) to applying hidden inverses (hardware dependent) then we may miss opportunities for hardware independent optimisation e.g. `FullPeepholeOptimise`."
   ]
  },
  {
   "cell_type": "code",
   "execution_count": null,
   "metadata": {},
   "outputs": [],
   "source": [
    "from pytket import OpType\n",
    "\n",
    "render_circuit_jupyter(circ)\n",
    "u_after = circ.get_unitary()\n",
    "print(\"ZZPhase count =\",circ.n_gates_of_type(OpType.ZZPhase))"
   ]
  },
  {
   "cell_type": "code",
   "execution_count": null,
   "metadata": {},
   "outputs": [],
   "source": [
    "print(\"Unitary matches?\", compare_unitaries(u_before, u_after))"
   ]
  },
  {
   "cell_type": "markdown",
   "metadata": {},
   "source": [
    "## Alternating CNOT Decomposition"
   ]
  },
  {
   "cell_type": "markdown",
   "metadata": {},
   "source": [
    "**Idea:** Iterate through a circuit transforming CNOT gates to H-series decomposition. Every time a CNOT uses the same two qubits as a previous CNOT flip the decomposition to use the hidden inverse.\n",
    "\n",
    "Unlike the Pauli gadget pass this alternating decomposition can be performed post ``FullPeepholeOptimise`` on circuits which could be already fairly CX optimal."
   ]
  },
  {
   "cell_type": "code",
   "execution_count": null,
   "metadata": {},
   "outputs": [],
   "source": [
    "from alternating_cnot_decomposition import hidden_inverse_alternating_cnots\n",
    "\n",
    "circuit = (\n",
    "        Circuit(4)\n",
    "        .H(0)\n",
    "        .CX(0, 1)\n",
    "        .H(1)\n",
    "        .CX(1, 2)\n",
    "        .H(3)\n",
    "        .CX(2, 3)\n",
    "        .H(3)\n",
    "        .CX(0, 1)\n",
    "        .H(1)\n",
    "        .CX(1, 2)\n",
    "        .CX(0, 1)\n",
    "        .H(0)\n",
    "        .H(1)\n",
    "    )\n",
    "\n",
    "u_initial = circuit.get_unitary()"
   ]
  },
  {
   "cell_type": "code",
   "execution_count": null,
   "metadata": {},
   "outputs": [],
   "source": [
    "render_circuit_jupyter(circuit)"
   ]
  },
  {
   "cell_type": "code",
   "execution_count": null,
   "metadata": {},
   "outputs": [],
   "source": [
    "hidden_inverse_alternating_cnots.apply(circuit)\n",
    "u_final = circuit.get_unitary()\n",
    "render_circuit_jupyter(circuit)"
   ]
  },
  {
   "cell_type": "code",
   "execution_count": null,
   "metadata": {},
   "outputs": [],
   "source": [
    "print(\"Unitary preserved?\", compare_unitaries(u_initial, u_final))"
   ]
  },
  {
   "cell_type": "markdown",
   "metadata": {},
   "source": [
    "## Ideas and Future Directions\n",
    "\n",
    "1. Run some phase/pauli gadgets on H-series emulator/real device. Find out if coherent errors are suppressed\n",
    "2. Test out this method for QEC gadgets (Maybe on real hardware? Talk more to Ben and Natalie).\n",
    "3. Test this out with classical `ToffoliBox` circuits?\n",
    "4. Figure out how this might play nicely with `OptimisePhaseGadgets` and `PauliSimp`.\n",
    "5. Benchmark performance of alternating CNOT decomposition post `FullPeepholeOptimise`\n",
    "6. Clean up and generalise code. Integrate into TKET somehow?\n"
   ]
  }
 ],
 "metadata": {
  "kernelspec": {
   "display_name": "Python 3 (ipykernel)",
   "language": "python",
   "name": "python3"
  },
  "language_info": {
   "codemirror_mode": {
    "name": "ipython",
    "version": 3
   },
   "file_extension": ".py",
   "mimetype": "text/x-python",
   "name": "python",
   "nbconvert_exporter": "python",
   "pygments_lexer": "ipython3",
   "version": "3.10.9"
  },
  "vscode": {
   "interpreter": {
    "hash": "43a01cee4cfc52af6ff9a7356fff534e948dc9cf366d732b34e7392299bd9997"
   }
  }
 },
 "nbformat": 4,
 "nbformat_minor": 4
}
