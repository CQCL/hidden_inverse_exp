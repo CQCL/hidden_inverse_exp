{
 "cells": [
  {
   "cell_type": "markdown",
   "metadata": {},
   "source": [
    "# Hidden Inverse Circuits for Coherent Error Supression "
   ]
  },
  {
   "cell_type": "markdown",
   "metadata": {},
   "source": [
    "**Key reference:** https://arxiv.org/abs/2104.01119\n",
    "\n",
    "**Idea:** Self adjoint gates such as CX have two equivalent decompositons into hardware native gates. Find symmetric circuits and use both decompostions to cancel coherent errors.\n",
    "\n",
    "If we have a matrix $M$ satisfying $M=M^\\dagger$ we say that $M$ is self adjoint.\n",
    "We can decompose this matrix M in two ways. "
   ]
  },
  {
   "cell_type": "markdown",
   "metadata": {},
   "source": [
    "$$\n",
    "\\begin{equation}\n",
    "M = ABC = C^\\dagger  B^\\dagger  A^\\dagger = M^\\dagger\n",
    "\\end{equation}\n",
    "$$"
   ]
  },
  {
   "cell_type": "markdown",
   "metadata": {},
   "source": [
    "Here $M$ represents the unitary (and self-adjoint) matrix associated with a two qubit gate.\n"
   ]
  },
  {
   "cell_type": "markdown",
   "metadata": {},
   "source": [
    "![alt text](images/inverses_screenshot.png \"Title\")"
   ]
  },
  {
   "cell_type": "markdown",
   "metadata": {},
   "source": [
    "![alt text](images/gadget_screenshot.png \"Title\")"
   ]
  },
  {
   "cell_type": "markdown",
   "metadata": {},
   "source": [
    "**My github repository:** https://github.com/CQCL/hidden_inverse_exp"
   ]
  },
  {
   "cell_type": "markdown",
   "metadata": {},
   "source": [
    "## Getting the Hidden Inverses"
   ]
  },
  {
   "cell_type": "code",
   "execution_count": 1,
   "metadata": {},
   "outputs": [],
   "source": [
    "from hseires_decompositions import get_hidden_inverse_circuits\n",
    "from pytket.circuit.display import render_circuit_jupyter\n",
    "from pytket.utils import compare_unitaries\n",
    "import numpy as np"
   ]
  },
  {
   "cell_type": "code",
   "execution_count": 2,
   "metadata": {},
   "outputs": [
    {
     "data": {
      "text/html": [
       "\n",
       "\n",
       "\n",
       "\n",
       "\n",
       "\n",
       "<iframe srcdoc=\"\n",
       "&lt;!DOCTYPE html&gt;\n",
       "&lt;html lang=&#34;en&#34;&gt;\n",
       "&lt;head&gt;\n",
       "    &lt;meta charset=&#34;UTF-8&#34;&gt;\n",
       "    &lt;script type=&#34;application/javascript&#34; src=&#34;https://cdn.jsdelivr.net/npm/vue@3&#34;&gt;&lt;/script&gt;\n",
       "    &lt;script type=&#34;application/javascript&#34; src=&#34;https://unpkg.com/pytket-circuit-renderer@0.3/dist/pytket-circuit-renderer.umd.js&#34;&gt;&lt;/script&gt;\n",
       "    &lt;link rel=&#34;stylesheet&#34; href=&#34;https://unpkg.com/pytket-circuit-renderer@0.3/dist/pytket-circuit-renderer.css&#34;&gt;\n",
       "&lt;/head&gt;\n",
       "&lt;body&gt;\n",
       "    &lt;div id=&#34;circuit-display-vue-container-8c8f3d32-be86-4c11-ab00-56cfbd5e8a17&#34; class=&#34;pytket-circuit-display-container&#34;&gt;\n",
       "        &lt;div style=&#34;display: none&#34;&gt;\n",
       "            &lt;div id=&#34;circuit-json-to-display&#34;&gt;{&#34;bits&#34;: [], &#34;commands&#34;: [{&#34;args&#34;: [[&#34;q&#34;, [1]]], &#34;op&#34;: {&#34;params&#34;: [&#34;0.5&#34;, &#34;-0.5&#34;], &#34;type&#34;: &#34;PhasedX&#34;}}, {&#34;args&#34;: [[&#34;q&#34;, [0]], [&#34;q&#34;, [1]]], &#34;op&#34;: {&#34;params&#34;: [&#34;0.5&#34;], &#34;type&#34;: &#34;ZZPhase&#34;}}, {&#34;args&#34;: [[&#34;q&#34;, [0]]], &#34;op&#34;: {&#34;params&#34;: [&#34;7/2&#34;], &#34;type&#34;: &#34;Rz&#34;}}, {&#34;args&#34;: [[&#34;q&#34;, [1]]], &#34;op&#34;: {&#34;params&#34;: [&#34;-1/2&#34;, &#34;0&#34;], &#34;type&#34;: &#34;PhasedX&#34;}}, {&#34;args&#34;: [[&#34;q&#34;, [1]]], &#34;op&#34;: {&#34;params&#34;: [&#34;3/2&#34;], &#34;type&#34;: &#34;Rz&#34;}}], &#34;created_qubits&#34;: [], &#34;discarded_qubits&#34;: [], &#34;implicit_permutation&#34;: [[[&#34;q&#34;, [0]], [&#34;q&#34;, [0]]], [[&#34;q&#34;, [1]], [&#34;q&#34;, [1]]]], &#34;phase&#34;: &#34;0.75&#34;, &#34;qubits&#34;: [[&#34;q&#34;, [0]], [&#34;q&#34;, [1]]]}&lt;/div&gt;\n",
       "        &lt;/div&gt;\n",
       "        &lt;circuit-display-container :circuit-element-str=&#34;&#39;#circuit-json-to-display&#39;&#34;&gt;&lt;/circuit-display-container&gt;\n",
       "    &lt;/div&gt;\n",
       "    &lt;script type=&#34;application/javascript&#34;&gt;\n",
       "        const { createApp } = Vue;\n",
       "        const circuitDisplayContainer = window[&#34;pytket-circuit-renderer&#34;].default;\n",
       "        // Init variables to be shared between circuit display instances\n",
       "        if (typeof window.pytketCircuitDisplays === &#34;undefined&#34;) {\n",
       "            window.pytketCircuitDisplays = {};\n",
       "        }\n",
       "        const uid = &#34;8c8f3d32-be86-4c11-ab00-56cfbd5e8a17&#34;;\n",
       "        // Create the root Vue component\n",
       "        const app = createApp({\n",
       "            delimiters: [&#39;[[#&#39;, &#39;#]]&#39;],\n",
       "            components: { circuitDisplayContainer },\n",
       "        })\n",
       "        app.config.unwrapInjectedRef = true;\n",
       "        app.mount(&#34;#circuit-display-vue-container-&#34;+uid);\n",
       "        window.pytketCircuitDisplays[uid] = app;\n",
       "    &lt;/script&gt;\n",
       "&lt;/body&gt;\n",
       "&lt;/html&gt;\n",
       "\"\n",
       "        width=\"100%\" height=\"200px\"\n",
       "        style=\"border: none; outline: none; resize: vertical; overflow: auto\"></iframe>\n",
       "\n"
      ],
      "text/plain": [
       "<IPython.core.display.HTML object>"
      ]
     },
     "metadata": {},
     "output_type": "display_data"
    },
    {
     "data": {
      "text/html": [
       "\n",
       "\n",
       "\n",
       "\n",
       "\n",
       "\n",
       "<iframe srcdoc=\"\n",
       "&lt;!DOCTYPE html&gt;\n",
       "&lt;html lang=&#34;en&#34;&gt;\n",
       "&lt;head&gt;\n",
       "    &lt;meta charset=&#34;UTF-8&#34;&gt;\n",
       "    &lt;script type=&#34;application/javascript&#34; src=&#34;https://cdn.jsdelivr.net/npm/vue@3&#34;&gt;&lt;/script&gt;\n",
       "    &lt;script type=&#34;application/javascript&#34; src=&#34;https://unpkg.com/pytket-circuit-renderer@0.3/dist/pytket-circuit-renderer.umd.js&#34;&gt;&lt;/script&gt;\n",
       "    &lt;link rel=&#34;stylesheet&#34; href=&#34;https://unpkg.com/pytket-circuit-renderer@0.3/dist/pytket-circuit-renderer.css&#34;&gt;\n",
       "&lt;/head&gt;\n",
       "&lt;body&gt;\n",
       "    &lt;div id=&#34;circuit-display-vue-container-9d3f95fb-d4aa-4ee1-af73-d8d1f03fcba6&#34; class=&#34;pytket-circuit-display-container&#34;&gt;\n",
       "        &lt;div style=&#34;display: none&#34;&gt;\n",
       "            &lt;div id=&#34;circuit-json-to-display&#34;&gt;{&#34;bits&#34;: [], &#34;commands&#34;: [{&#34;args&#34;: [[&#34;q&#34;, [0]]], &#34;op&#34;: {&#34;params&#34;: [&#34;-7/2&#34;], &#34;type&#34;: &#34;Rz&#34;}}, {&#34;args&#34;: [[&#34;q&#34;, [1]]], &#34;op&#34;: {&#34;params&#34;: [&#34;-3/2&#34;], &#34;type&#34;: &#34;Rz&#34;}}, {&#34;args&#34;: [[&#34;q&#34;, [1]]], &#34;op&#34;: {&#34;params&#34;: [&#34;1/2&#34;, &#34;0&#34;], &#34;type&#34;: &#34;PhasedX&#34;}}, {&#34;args&#34;: [[&#34;q&#34;, [0]], [&#34;q&#34;, [1]]], &#34;op&#34;: {&#34;params&#34;: [&#34;-0.5&#34;], &#34;type&#34;: &#34;ZZPhase&#34;}}, {&#34;args&#34;: [[&#34;q&#34;, [1]]], &#34;op&#34;: {&#34;params&#34;: [&#34;-0.5&#34;, &#34;-0.5&#34;], &#34;type&#34;: &#34;PhasedX&#34;}}], &#34;created_qubits&#34;: [], &#34;discarded_qubits&#34;: [], &#34;implicit_permutation&#34;: [[[&#34;q&#34;, [0]], [&#34;q&#34;, [0]]], [[&#34;q&#34;, [1]], [&#34;q&#34;, [1]]]], &#34;phase&#34;: &#34;1.25&#34;, &#34;qubits&#34;: [[&#34;q&#34;, [0]], [&#34;q&#34;, [1]]]}&lt;/div&gt;\n",
       "        &lt;/div&gt;\n",
       "        &lt;circuit-display-container :circuit-element-str=&#34;&#39;#circuit-json-to-display&#39;&#34;&gt;&lt;/circuit-display-container&gt;\n",
       "    &lt;/div&gt;\n",
       "    &lt;script type=&#34;application/javascript&#34;&gt;\n",
       "        const { createApp } = Vue;\n",
       "        const circuitDisplayContainer = window[&#34;pytket-circuit-renderer&#34;].default;\n",
       "        // Init variables to be shared between circuit display instances\n",
       "        if (typeof window.pytketCircuitDisplays === &#34;undefined&#34;) {\n",
       "            window.pytketCircuitDisplays = {};\n",
       "        }\n",
       "        const uid = &#34;9d3f95fb-d4aa-4ee1-af73-d8d1f03fcba6&#34;;\n",
       "        // Create the root Vue component\n",
       "        const app = createApp({\n",
       "            delimiters: [&#39;[[#&#39;, &#39;#]]&#39;],\n",
       "            components: { circuitDisplayContainer },\n",
       "        })\n",
       "        app.config.unwrapInjectedRef = true;\n",
       "        app.mount(&#34;#circuit-display-vue-container-&#34;+uid);\n",
       "        window.pytketCircuitDisplays[uid] = app;\n",
       "    &lt;/script&gt;\n",
       "&lt;/body&gt;\n",
       "&lt;/html&gt;\n",
       "\"\n",
       "        width=\"100%\" height=\"200px\"\n",
       "        style=\"border: none; outline: none; resize: vertical; overflow: auto\"></iframe>\n",
       "\n"
      ],
      "text/plain": [
       "<IPython.core.display.HTML object>"
      ]
     },
     "metadata": {},
     "output_type": "display_data"
    },
    {
     "name": "stdout",
     "output_type": "stream",
     "text": [
      "Equivalent unitaries? True\n"
     ]
    }
   ],
   "source": [
    "cx_matrix = np.array([[1, 0, 0, 0], [0, 1, 0, 0], [0, 0, 0, 1], [0, 0, 1, 0]])\n",
    "#cz_matrix = np.array([[1, 0, 0, 0], [0, 1, 0, 0], [0, 0, 1, 0], [0, 0, 0, -1]])\n",
    "\n",
    "c1, c2 = get_hidden_inverse_circuits(cx_matrix)\n",
    "\n",
    "render_circuit_jupyter(c1)\n",
    "render_circuit_jupyter(c2)\n",
    "print(\"Equivalent unitaries?\", compare_unitaries(c1.get_unitary(), c2.get_unitary()))"
   ]
  },
  {
   "cell_type": "markdown",
   "metadata": {},
   "source": [
    "## Phase and Pauli Gadgets"
   ]
  },
  {
   "cell_type": "code",
   "execution_count": 3,
   "metadata": {},
   "outputs": [],
   "source": [
    "from utils.circuit_builders import get_phase_gadget, get_pauli_gadget\n",
    "from phase_gadget_pass import phase_gadget_hi_pass"
   ]
  },
  {
   "cell_type": "code",
   "execution_count": 4,
   "metadata": {},
   "outputs": [
    {
     "data": {
      "text/html": [
       "\n",
       "\n",
       "\n",
       "\n",
       "\n",
       "\n",
       "<iframe srcdoc=\"\n",
       "&lt;!DOCTYPE html&gt;\n",
       "&lt;html lang=&#34;en&#34;&gt;\n",
       "&lt;head&gt;\n",
       "    &lt;meta charset=&#34;UTF-8&#34;&gt;\n",
       "    &lt;script type=&#34;application/javascript&#34; src=&#34;https://cdn.jsdelivr.net/npm/vue@3&#34;&gt;&lt;/script&gt;\n",
       "    &lt;script type=&#34;application/javascript&#34; src=&#34;https://unpkg.com/pytket-circuit-renderer@0.3/dist/pytket-circuit-renderer.umd.js&#34;&gt;&lt;/script&gt;\n",
       "    &lt;link rel=&#34;stylesheet&#34; href=&#34;https://unpkg.com/pytket-circuit-renderer@0.3/dist/pytket-circuit-renderer.css&#34;&gt;\n",
       "&lt;/head&gt;\n",
       "&lt;body&gt;\n",
       "    &lt;div id=&#34;circuit-display-vue-container-11cbc721-0043-45e1-87ba-e48146067b28&#34; class=&#34;pytket-circuit-display-container&#34;&gt;\n",
       "        &lt;div style=&#34;display: none&#34;&gt;\n",
       "            &lt;div id=&#34;circuit-json-to-display&#34;&gt;{&#34;bits&#34;: [], &#34;commands&#34;: [{&#34;args&#34;: [[&#34;q&#34;, [0]], [&#34;q&#34;, [1]]], &#34;op&#34;: {&#34;type&#34;: &#34;CX&#34;}}, {&#34;args&#34;: [[&#34;q&#34;, [1]]], &#34;op&#34;: {&#34;params&#34;: [&#34;0.7&#34;], &#34;type&#34;: &#34;Rz&#34;}}, {&#34;args&#34;: [[&#34;q&#34;, [0]], [&#34;q&#34;, [1]]], &#34;op&#34;: {&#34;type&#34;: &#34;CX&#34;}}], &#34;created_qubits&#34;: [], &#34;discarded_qubits&#34;: [], &#34;implicit_permutation&#34;: [[[&#34;q&#34;, [0]], [&#34;q&#34;, [0]]], [[&#34;q&#34;, [1]], [&#34;q&#34;, [1]]]], &#34;phase&#34;: &#34;0.0&#34;, &#34;qubits&#34;: [[&#34;q&#34;, [0]], [&#34;q&#34;, [1]]]}&lt;/div&gt;\n",
       "        &lt;/div&gt;\n",
       "        &lt;circuit-display-container :circuit-element-str=&#34;&#39;#circuit-json-to-display&#39;&#34;&gt;&lt;/circuit-display-container&gt;\n",
       "    &lt;/div&gt;\n",
       "    &lt;script type=&#34;application/javascript&#34;&gt;\n",
       "        const { createApp } = Vue;\n",
       "        const circuitDisplayContainer = window[&#34;pytket-circuit-renderer&#34;].default;\n",
       "        // Init variables to be shared between circuit display instances\n",
       "        if (typeof window.pytketCircuitDisplays === &#34;undefined&#34;) {\n",
       "            window.pytketCircuitDisplays = {};\n",
       "        }\n",
       "        const uid = &#34;11cbc721-0043-45e1-87ba-e48146067b28&#34;;\n",
       "        // Create the root Vue component\n",
       "        const app = createApp({\n",
       "            delimiters: [&#39;[[#&#39;, &#39;#]]&#39;],\n",
       "            components: { circuitDisplayContainer },\n",
       "        })\n",
       "        app.config.unwrapInjectedRef = true;\n",
       "        app.mount(&#34;#circuit-display-vue-container-&#34;+uid);\n",
       "        window.pytketCircuitDisplays[uid] = app;\n",
       "    &lt;/script&gt;\n",
       "&lt;/body&gt;\n",
       "&lt;/html&gt;\n",
       "\"\n",
       "        width=\"100%\" height=\"200px\"\n",
       "        style=\"border: none; outline: none; resize: vertical; overflow: auto\"></iframe>\n",
       "\n"
      ],
      "text/plain": [
       "<IPython.core.display.HTML object>"
      ]
     },
     "metadata": {},
     "output_type": "display_data"
    }
   ],
   "source": [
    "phase_gadget_circ = get_phase_gadget(0.7, 2)\n",
    "render_circuit_jupyter(phase_gadget_circ)"
   ]
  },
  {
   "cell_type": "code",
   "execution_count": 5,
   "metadata": {},
   "outputs": [
    {
     "data": {
      "text/plain": [
       "True"
      ]
     },
     "execution_count": 5,
     "metadata": {},
     "output_type": "execute_result"
    }
   ],
   "source": [
    "phase_gadget_hi_pass.apply(phase_gadget_circ)"
   ]
  },
  {
   "cell_type": "code",
   "execution_count": 6,
   "metadata": {},
   "outputs": [
    {
     "data": {
      "text/html": [
       "\n",
       "\n",
       "\n",
       "\n",
       "\n",
       "\n",
       "<iframe srcdoc=\"\n",
       "&lt;!DOCTYPE html&gt;\n",
       "&lt;html lang=&#34;en&#34;&gt;\n",
       "&lt;head&gt;\n",
       "    &lt;meta charset=&#34;UTF-8&#34;&gt;\n",
       "    &lt;script type=&#34;application/javascript&#34; src=&#34;https://cdn.jsdelivr.net/npm/vue@3&#34;&gt;&lt;/script&gt;\n",
       "    &lt;script type=&#34;application/javascript&#34; src=&#34;https://unpkg.com/pytket-circuit-renderer@0.3/dist/pytket-circuit-renderer.umd.js&#34;&gt;&lt;/script&gt;\n",
       "    &lt;link rel=&#34;stylesheet&#34; href=&#34;https://unpkg.com/pytket-circuit-renderer@0.3/dist/pytket-circuit-renderer.css&#34;&gt;\n",
       "&lt;/head&gt;\n",
       "&lt;body&gt;\n",
       "    &lt;div id=&#34;circuit-display-vue-container-7c6be4b9-34a2-4269-ae35-2250c17d9999&#34; class=&#34;pytket-circuit-display-container&#34;&gt;\n",
       "        &lt;div style=&#34;display: none&#34;&gt;\n",
       "            &lt;div id=&#34;circuit-json-to-display&#34;&gt;{&#34;bits&#34;: [], &#34;commands&#34;: [{&#34;args&#34;: [[&#34;q&#34;, [1]]], &#34;op&#34;: {&#34;params&#34;: [&#34;0.5&#34;, &#34;-0.5&#34;], &#34;type&#34;: &#34;PhasedX&#34;}}, {&#34;args&#34;: [[&#34;q&#34;, [0]], [&#34;q&#34;, [1]]], &#34;op&#34;: {&#34;params&#34;: [&#34;0.5&#34;], &#34;type&#34;: &#34;ZZPhase&#34;}}, {&#34;args&#34;: [[&#34;q&#34;, [0]]], &#34;op&#34;: {&#34;params&#34;: [&#34;3.5&#34;], &#34;type&#34;: &#34;Rz&#34;}}, {&#34;args&#34;: [[&#34;q&#34;, [1]]], &#34;op&#34;: {&#34;params&#34;: [&#34;-0.5&#34;, &#34;0.0&#34;], &#34;type&#34;: &#34;PhasedX&#34;}}, {&#34;args&#34;: [[&#34;q&#34;, [0]]], &#34;op&#34;: {&#34;params&#34;: [&#34;-3.5&#34;], &#34;type&#34;: &#34;Rz&#34;}}, {&#34;args&#34;: [[&#34;q&#34;, [1]]], &#34;op&#34;: {&#34;params&#34;: [&#34;1.5&#34;], &#34;type&#34;: &#34;Rz&#34;}}, {&#34;args&#34;: [[&#34;q&#34;, [1]]], &#34;op&#34;: {&#34;params&#34;: [&#34;0.7&#34;], &#34;type&#34;: &#34;Rz&#34;}}, {&#34;args&#34;: [[&#34;q&#34;, [1]]], &#34;op&#34;: {&#34;params&#34;: [&#34;-1.5&#34;], &#34;type&#34;: &#34;Rz&#34;}}, {&#34;args&#34;: [[&#34;q&#34;, [1]]], &#34;op&#34;: {&#34;params&#34;: [&#34;0.5&#34;, &#34;0.0&#34;], &#34;type&#34;: &#34;PhasedX&#34;}}, {&#34;args&#34;: [[&#34;q&#34;, [0]], [&#34;q&#34;, [1]]], &#34;op&#34;: {&#34;params&#34;: [&#34;-0.5&#34;], &#34;type&#34;: &#34;ZZPhase&#34;}}, {&#34;args&#34;: [[&#34;q&#34;, [1]]], &#34;op&#34;: {&#34;params&#34;: [&#34;-0.5&#34;, &#34;-0.5&#34;], &#34;type&#34;: &#34;PhasedX&#34;}}], &#34;created_qubits&#34;: [], &#34;discarded_qubits&#34;: [], &#34;implicit_permutation&#34;: [[[&#34;q&#34;, [0]], [&#34;q&#34;, [0]]], [[&#34;q&#34;, [1]], [&#34;q&#34;, [1]]]], &#34;phase&#34;: &#34;0.0&#34;, &#34;qubits&#34;: [[&#34;q&#34;, [0]], [&#34;q&#34;, [1]]]}&lt;/div&gt;\n",
       "        &lt;/div&gt;\n",
       "        &lt;circuit-display-container :circuit-element-str=&#34;&#39;#circuit-json-to-display&#39;&#34;&gt;&lt;/circuit-display-container&gt;\n",
       "    &lt;/div&gt;\n",
       "    &lt;script type=&#34;application/javascript&#34;&gt;\n",
       "        const { createApp } = Vue;\n",
       "        const circuitDisplayContainer = window[&#34;pytket-circuit-renderer&#34;].default;\n",
       "        // Init variables to be shared between circuit display instances\n",
       "        if (typeof window.pytketCircuitDisplays === &#34;undefined&#34;) {\n",
       "            window.pytketCircuitDisplays = {};\n",
       "        }\n",
       "        const uid = &#34;7c6be4b9-34a2-4269-ae35-2250c17d9999&#34;;\n",
       "        // Create the root Vue component\n",
       "        const app = createApp({\n",
       "            delimiters: [&#39;[[#&#39;, &#39;#]]&#39;],\n",
       "            components: { circuitDisplayContainer },\n",
       "        })\n",
       "        app.config.unwrapInjectedRef = true;\n",
       "        app.mount(&#34;#circuit-display-vue-container-&#34;+uid);\n",
       "        window.pytketCircuitDisplays[uid] = app;\n",
       "    &lt;/script&gt;\n",
       "&lt;/body&gt;\n",
       "&lt;/html&gt;\n",
       "\"\n",
       "        width=\"100%\" height=\"200px\"\n",
       "        style=\"border: none; outline: none; resize: vertical; overflow: auto\"></iframe>\n",
       "\n"
      ],
      "text/plain": [
       "<IPython.core.display.HTML object>"
      ]
     },
     "metadata": {},
     "output_type": "display_data"
    }
   ],
   "source": [
    "render_circuit_jupyter(phase_gadget_circ)"
   ]
  },
  {
   "cell_type": "code",
   "execution_count": 7,
   "metadata": {},
   "outputs": [
    {
     "data": {
      "text/html": [
       "\n",
       "\n",
       "\n",
       "\n",
       "\n",
       "\n",
       "<iframe srcdoc=\"\n",
       "&lt;!DOCTYPE html&gt;\n",
       "&lt;html lang=&#34;en&#34;&gt;\n",
       "&lt;head&gt;\n",
       "    &lt;meta charset=&#34;UTF-8&#34;&gt;\n",
       "    &lt;script type=&#34;application/javascript&#34; src=&#34;https://cdn.jsdelivr.net/npm/vue@3&#34;&gt;&lt;/script&gt;\n",
       "    &lt;script type=&#34;application/javascript&#34; src=&#34;https://unpkg.com/pytket-circuit-renderer@0.3/dist/pytket-circuit-renderer.umd.js&#34;&gt;&lt;/script&gt;\n",
       "    &lt;link rel=&#34;stylesheet&#34; href=&#34;https://unpkg.com/pytket-circuit-renderer@0.3/dist/pytket-circuit-renderer.css&#34;&gt;\n",
       "&lt;/head&gt;\n",
       "&lt;body&gt;\n",
       "    &lt;div id=&#34;circuit-display-vue-container-ac891b89-51b4-4eb0-ba4f-9d7da0e17954&#34; class=&#34;pytket-circuit-display-container&#34;&gt;\n",
       "        &lt;div style=&#34;display: none&#34;&gt;\n",
       "            &lt;div id=&#34;circuit-json-to-display&#34;&gt;{&#34;bits&#34;: [], &#34;commands&#34;: [{&#34;args&#34;: [[&#34;q&#34;, [0]]], &#34;op&#34;: {&#34;type&#34;: &#34;H&#34;}}, {&#34;args&#34;: [[&#34;q&#34;, [1]]], &#34;op&#34;: {&#34;type&#34;: &#34;V&#34;}}, {&#34;args&#34;: [[&#34;q&#34;, [2]], [&#34;q&#34;, [1]]], &#34;op&#34;: {&#34;type&#34;: &#34;CX&#34;}}, {&#34;args&#34;: [[&#34;q&#34;, [1]], [&#34;q&#34;, [0]]], &#34;op&#34;: {&#34;type&#34;: &#34;CX&#34;}}, {&#34;args&#34;: [[&#34;q&#34;, [0]]], &#34;op&#34;: {&#34;params&#34;: [&#34;0.65&#34;], &#34;type&#34;: &#34;Rz&#34;}}, {&#34;args&#34;: [[&#34;q&#34;, [1]], [&#34;q&#34;, [0]]], &#34;op&#34;: {&#34;type&#34;: &#34;CX&#34;}}, {&#34;args&#34;: [[&#34;q&#34;, [0]]], &#34;op&#34;: {&#34;type&#34;: &#34;H&#34;}}, {&#34;args&#34;: [[&#34;q&#34;, [2]], [&#34;q&#34;, [1]]], &#34;op&#34;: {&#34;type&#34;: &#34;CX&#34;}}, {&#34;args&#34;: [[&#34;q&#34;, [1]]], &#34;op&#34;: {&#34;type&#34;: &#34;Vdg&#34;}}], &#34;created_qubits&#34;: [], &#34;discarded_qubits&#34;: [], &#34;implicit_permutation&#34;: [[[&#34;q&#34;, [0]], [&#34;q&#34;, [0]]], [[&#34;q&#34;, [1]], [&#34;q&#34;, [1]]], [[&#34;q&#34;, [2]], [&#34;q&#34;, [2]]]], &#34;phase&#34;: &#34;0.0&#34;, &#34;qubits&#34;: [[&#34;q&#34;, [0]], [&#34;q&#34;, [1]], [&#34;q&#34;, [2]]]}&lt;/div&gt;\n",
       "        &lt;/div&gt;\n",
       "        &lt;circuit-display-container :circuit-element-str=&#34;&#39;#circuit-json-to-display&#39;&#34;&gt;&lt;/circuit-display-container&gt;\n",
       "    &lt;/div&gt;\n",
       "    &lt;script type=&#34;application/javascript&#34;&gt;\n",
       "        const { createApp } = Vue;\n",
       "        const circuitDisplayContainer = window[&#34;pytket-circuit-renderer&#34;].default;\n",
       "        // Init variables to be shared between circuit display instances\n",
       "        if (typeof window.pytketCircuitDisplays === &#34;undefined&#34;) {\n",
       "            window.pytketCircuitDisplays = {};\n",
       "        }\n",
       "        const uid = &#34;ac891b89-51b4-4eb0-ba4f-9d7da0e17954&#34;;\n",
       "        // Create the root Vue component\n",
       "        const app = createApp({\n",
       "            delimiters: [&#39;[[#&#39;, &#39;#]]&#39;],\n",
       "            components: { circuitDisplayContainer },\n",
       "        })\n",
       "        app.config.unwrapInjectedRef = true;\n",
       "        app.mount(&#34;#circuit-display-vue-container-&#34;+uid);\n",
       "        window.pytketCircuitDisplays[uid] = app;\n",
       "    &lt;/script&gt;\n",
       "&lt;/body&gt;\n",
       "&lt;/html&gt;\n",
       "\"\n",
       "        width=\"100%\" height=\"200px\"\n",
       "        style=\"border: none; outline: none; resize: vertical; overflow: auto\"></iframe>\n",
       "\n"
      ],
      "text/plain": [
       "<IPython.core.display.HTML object>"
      ]
     },
     "metadata": {},
     "output_type": "display_data"
    }
   ],
   "source": [
    "from pauli_gadget_pass import single_pauli_gadget_hi_pass, general_pauli_gadget_hi_pass\n",
    "\n",
    "pauli_xyzy_circ = get_pauli_gadget(\"XYZ\", 0.65)\n",
    "render_circuit_jupyter(pauli_xyzy_circ)\n",
    "u1 = pauli_xyzy_circ.get_unitary()"
   ]
  },
  {
   "cell_type": "code",
   "execution_count": 8,
   "metadata": {},
   "outputs": [],
   "source": [
    "single_pauli_gadget_hi_pass.apply(pauli_xyzy_circ)\n",
    "u2 = pauli_xyzy_circ.get_unitary()"
   ]
  },
  {
   "cell_type": "code",
   "execution_count": 9,
   "metadata": {},
   "outputs": [
    {
     "data": {
      "text/html": [
       "\n",
       "\n",
       "\n",
       "\n",
       "\n",
       "\n",
       "<iframe srcdoc=\"\n",
       "&lt;!DOCTYPE html&gt;\n",
       "&lt;html lang=&#34;en&#34;&gt;\n",
       "&lt;head&gt;\n",
       "    &lt;meta charset=&#34;UTF-8&#34;&gt;\n",
       "    &lt;script type=&#34;application/javascript&#34; src=&#34;https://cdn.jsdelivr.net/npm/vue@3&#34;&gt;&lt;/script&gt;\n",
       "    &lt;script type=&#34;application/javascript&#34; src=&#34;https://unpkg.com/pytket-circuit-renderer@0.3/dist/pytket-circuit-renderer.umd.js&#34;&gt;&lt;/script&gt;\n",
       "    &lt;link rel=&#34;stylesheet&#34; href=&#34;https://unpkg.com/pytket-circuit-renderer@0.3/dist/pytket-circuit-renderer.css&#34;&gt;\n",
       "&lt;/head&gt;\n",
       "&lt;body&gt;\n",
       "    &lt;div id=&#34;circuit-display-vue-container-17a2c051-c6ac-4c54-9e5b-4ec8506e2ead&#34; class=&#34;pytket-circuit-display-container&#34;&gt;\n",
       "        &lt;div style=&#34;display: none&#34;&gt;\n",
       "            &lt;div id=&#34;circuit-json-to-display&#34;&gt;{&#34;bits&#34;: [], &#34;commands&#34;: [{&#34;args&#34;: [[&#34;q&#34;, [1]]], &#34;op&#34;: {&#34;params&#34;: [&#34;1.5&#34;, &#34;0.5&#34;], &#34;type&#34;: &#34;PhasedX&#34;}}, {&#34;args&#34;: [[&#34;q&#34;, [2]], [&#34;q&#34;, [1]]], &#34;op&#34;: {&#34;params&#34;: [&#34;0.5&#34;], &#34;type&#34;: &#34;ZZPhase&#34;}}, {&#34;args&#34;: [[&#34;q&#34;, [1]]], &#34;op&#34;: {&#34;params&#34;: [&#34;1/2&#34;, &#34;-3/2&#34;], &#34;type&#34;: &#34;PhasedX&#34;}}, {&#34;args&#34;: [[&#34;q&#34;, [2]]], &#34;op&#34;: {&#34;params&#34;: [&#34;7/2&#34;], &#34;type&#34;: &#34;Rz&#34;}}, {&#34;args&#34;: [[&#34;q&#34;, [1]], [&#34;q&#34;, [0]]], &#34;op&#34;: {&#34;params&#34;: [&#34;0.5&#34;], &#34;type&#34;: &#34;ZZPhase&#34;}}, {&#34;args&#34;: [[&#34;q&#34;, [2]]], &#34;op&#34;: {&#34;params&#34;: [&#34;-7/2&#34;], &#34;type&#34;: &#34;Rz&#34;}}, {&#34;args&#34;: [[&#34;q&#34;, [0]]], &#34;op&#34;: {&#34;params&#34;: [&#34;1/2&#34;, &#34;0&#34;], &#34;type&#34;: &#34;PhasedX&#34;}}, {&#34;args&#34;: [[&#34;q&#34;, [1]]], &#34;op&#34;: {&#34;params&#34;: [&#34;3/2&#34;], &#34;type&#34;: &#34;Rz&#34;}}, {&#34;args&#34;: [[&#34;q&#34;, [0]]], &#34;op&#34;: {&#34;params&#34;: [&#34;1/2&#34;], &#34;type&#34;: &#34;Rz&#34;}}, {&#34;args&#34;: [[&#34;q&#34;, [1]]], &#34;op&#34;: {&#34;params&#34;: [&#34;-3/2&#34;], &#34;type&#34;: &#34;Rz&#34;}}, {&#34;args&#34;: [[&#34;q&#34;, [0]]], &#34;op&#34;: {&#34;params&#34;: [&#34;0.65&#34;], &#34;type&#34;: &#34;Rz&#34;}}, {&#34;args&#34;: [[&#34;q&#34;, [0]]], &#34;op&#34;: {&#34;params&#34;: [&#34;-1/2&#34;], &#34;type&#34;: &#34;Rz&#34;}}, {&#34;args&#34;: [[&#34;q&#34;, [0]]], &#34;op&#34;: {&#34;params&#34;: [&#34;-1/2&#34;, &#34;0&#34;], &#34;type&#34;: &#34;PhasedX&#34;}}, {&#34;args&#34;: [[&#34;q&#34;, [1]], [&#34;q&#34;, [0]]], &#34;op&#34;: {&#34;params&#34;: [&#34;-0.5&#34;], &#34;type&#34;: &#34;ZZPhase&#34;}}, {&#34;args&#34;: [[&#34;q&#34;, [1]]], &#34;op&#34;: {&#34;params&#34;: [&#34;-1/2&#34;, &#34;-3/2&#34;], &#34;type&#34;: &#34;PhasedX&#34;}}, {&#34;args&#34;: [[&#34;q&#34;, [2]], [&#34;q&#34;, [1]]], &#34;op&#34;: {&#34;params&#34;: [&#34;-0.5&#34;], &#34;type&#34;: &#34;ZZPhase&#34;}}, {&#34;args&#34;: [[&#34;q&#34;, [1]]], &#34;op&#34;: {&#34;params&#34;: [&#34;-1.5&#34;, &#34;0.5&#34;], &#34;type&#34;: &#34;PhasedX&#34;}}], &#34;created_qubits&#34;: [], &#34;discarded_qubits&#34;: [], &#34;implicit_permutation&#34;: [[[&#34;q&#34;, [0]], [&#34;q&#34;, [0]]], [[&#34;q&#34;, [1]], [&#34;q&#34;, [1]]], [[&#34;q&#34;, [2]], [&#34;q&#34;, [2]]]], &#34;phase&#34;: &#34;0.0&#34;, &#34;qubits&#34;: [[&#34;q&#34;, [0]], [&#34;q&#34;, [1]], [&#34;q&#34;, [2]]]}&lt;/div&gt;\n",
       "        &lt;/div&gt;\n",
       "        &lt;circuit-display-container :circuit-element-str=&#34;&#39;#circuit-json-to-display&#39;&#34;&gt;&lt;/circuit-display-container&gt;\n",
       "    &lt;/div&gt;\n",
       "    &lt;script type=&#34;application/javascript&#34;&gt;\n",
       "        const { createApp } = Vue;\n",
       "        const circuitDisplayContainer = window[&#34;pytket-circuit-renderer&#34;].default;\n",
       "        // Init variables to be shared between circuit display instances\n",
       "        if (typeof window.pytketCircuitDisplays === &#34;undefined&#34;) {\n",
       "            window.pytketCircuitDisplays = {};\n",
       "        }\n",
       "        const uid = &#34;17a2c051-c6ac-4c54-9e5b-4ec8506e2ead&#34;;\n",
       "        // Create the root Vue component\n",
       "        const app = createApp({\n",
       "            delimiters: [&#39;[[#&#39;, &#39;#]]&#39;],\n",
       "            components: { circuitDisplayContainer },\n",
       "        })\n",
       "        app.config.unwrapInjectedRef = true;\n",
       "        app.mount(&#34;#circuit-display-vue-container-&#34;+uid);\n",
       "        window.pytketCircuitDisplays[uid] = app;\n",
       "    &lt;/script&gt;\n",
       "&lt;/body&gt;\n",
       "&lt;/html&gt;\n",
       "\"\n",
       "        width=\"100%\" height=\"200px\"\n",
       "        style=\"border: none; outline: none; resize: vertical; overflow: auto\"></iframe>\n",
       "\n"
      ],
      "text/plain": [
       "<IPython.core.display.HTML object>"
      ]
     },
     "metadata": {},
     "output_type": "display_data"
    },
    {
     "name": "stdout",
     "output_type": "stream",
     "text": [
      "Is the pass unitary preserving? True\n"
     ]
    }
   ],
   "source": [
    "render_circuit_jupyter(pauli_xyzy_circ)\n",
    "print(\"Is the pass unitary preserving?\", compare_unitaries(u1, u2))"
   ]
  },
  {
   "cell_type": "code",
   "execution_count": 10,
   "metadata": {},
   "outputs": [
    {
     "data": {
      "text/html": [
       "\n",
       "\n",
       "\n",
       "\n",
       "\n",
       "\n",
       "<iframe srcdoc=\"\n",
       "&lt;!DOCTYPE html&gt;\n",
       "&lt;html lang=&#34;en&#34;&gt;\n",
       "&lt;head&gt;\n",
       "    &lt;meta charset=&#34;UTF-8&#34;&gt;\n",
       "    &lt;script type=&#34;application/javascript&#34; src=&#34;https://cdn.jsdelivr.net/npm/vue@3&#34;&gt;&lt;/script&gt;\n",
       "    &lt;script type=&#34;application/javascript&#34; src=&#34;https://unpkg.com/pytket-circuit-renderer@0.3/dist/pytket-circuit-renderer.umd.js&#34;&gt;&lt;/script&gt;\n",
       "    &lt;link rel=&#34;stylesheet&#34; href=&#34;https://unpkg.com/pytket-circuit-renderer@0.3/dist/pytket-circuit-renderer.css&#34;&gt;\n",
       "&lt;/head&gt;\n",
       "&lt;body&gt;\n",
       "    &lt;div id=&#34;circuit-display-vue-container-cd272e00-e85c-44ce-a015-8aeb22b45214&#34; class=&#34;pytket-circuit-display-container&#34;&gt;\n",
       "        &lt;div style=&#34;display: none&#34;&gt;\n",
       "            &lt;div id=&#34;circuit-json-to-display&#34;&gt;{&#34;bits&#34;: [], &#34;commands&#34;: [{&#34;args&#34;: [[&#34;q&#34;, [0]], [&#34;q&#34;, [1]], [&#34;q&#34;, [2]], [&#34;q&#34;, [3]]], &#34;op&#34;: {&#34;box&#34;: {&#34;id&#34;: &#34;3fb022a2-5da9-4b81-b445-bb0203a189b9&#34;, &#34;paulis&#34;: [&#34;X&#34;, &#34;Y&#34;, &#34;Z&#34;, &#34;Z&#34;], &#34;phase&#34;: &#34;0.65&#34;, &#34;type&#34;: &#34;PauliExpBox&#34;}, &#34;type&#34;: &#34;PauliExpBox&#34;}}, {&#34;args&#34;: [[&#34;q&#34;, [0]], [&#34;q&#34;, [1]], [&#34;q&#34;, [2]], [&#34;q&#34;, [3]]], &#34;op&#34;: {&#34;box&#34;: {&#34;id&#34;: &#34;7eb7ce2d-47e4-4e26-9d0d-723b375e2af2&#34;, &#34;paulis&#34;: [&#34;Z&#34;, &#34;Y&#34;, &#34;X&#34;, &#34;X&#34;], &#34;phase&#34;: &#34;0.8&#34;, &#34;type&#34;: &#34;PauliExpBox&#34;}, &#34;type&#34;: &#34;PauliExpBox&#34;}}, {&#34;args&#34;: [[&#34;q&#34;, [0]], [&#34;q&#34;, [1]], [&#34;q&#34;, [2]], [&#34;q&#34;, [3]]], &#34;op&#34;: {&#34;box&#34;: {&#34;id&#34;: &#34;07801a74-8d59-4fb4-bc82-6cafdcdff5e3&#34;, &#34;paulis&#34;: [&#34;X&#34;, &#34;X&#34;, &#34;X&#34;, &#34;X&#34;], &#34;phase&#34;: &#34;0.2&#34;, &#34;type&#34;: &#34;PauliExpBox&#34;}, &#34;type&#34;: &#34;PauliExpBox&#34;}}], &#34;created_qubits&#34;: [], &#34;discarded_qubits&#34;: [], &#34;implicit_permutation&#34;: [[[&#34;q&#34;, [0]], [&#34;q&#34;, [0]]], [[&#34;q&#34;, [1]], [&#34;q&#34;, [1]]], [[&#34;q&#34;, [2]], [&#34;q&#34;, [2]]], [[&#34;q&#34;, [3]], [&#34;q&#34;, [3]]]], &#34;phase&#34;: &#34;0.0&#34;, &#34;qubits&#34;: [[&#34;q&#34;, [0]], [&#34;q&#34;, [1]], [&#34;q&#34;, [2]], [&#34;q&#34;, [3]]]}&lt;/div&gt;\n",
       "        &lt;/div&gt;\n",
       "        &lt;circuit-display-container :circuit-element-str=&#34;&#39;#circuit-json-to-display&#39;&#34;&gt;&lt;/circuit-display-container&gt;\n",
       "    &lt;/div&gt;\n",
       "    &lt;script type=&#34;application/javascript&#34;&gt;\n",
       "        const { createApp } = Vue;\n",
       "        const circuitDisplayContainer = window[&#34;pytket-circuit-renderer&#34;].default;\n",
       "        // Init variables to be shared between circuit display instances\n",
       "        if (typeof window.pytketCircuitDisplays === &#34;undefined&#34;) {\n",
       "            window.pytketCircuitDisplays = {};\n",
       "        }\n",
       "        const uid = &#34;cd272e00-e85c-44ce-a015-8aeb22b45214&#34;;\n",
       "        // Create the root Vue component\n",
       "        const app = createApp({\n",
       "            delimiters: [&#39;[[#&#39;, &#39;#]]&#39;],\n",
       "            components: { circuitDisplayContainer },\n",
       "        })\n",
       "        app.config.unwrapInjectedRef = true;\n",
       "        app.mount(&#34;#circuit-display-vue-container-&#34;+uid);\n",
       "        window.pytketCircuitDisplays[uid] = app;\n",
       "    &lt;/script&gt;\n",
       "&lt;/body&gt;\n",
       "&lt;/html&gt;\n",
       "\"\n",
       "        width=\"100%\" height=\"200px\"\n",
       "        style=\"border: none; outline: none; resize: vertical; overflow: auto\"></iframe>\n",
       "\n"
      ],
      "text/plain": [
       "<IPython.core.display.HTML object>"
      ]
     },
     "metadata": {},
     "output_type": "display_data"
    }
   ],
   "source": [
    "from pytket import Circuit\n",
    "\n",
    "xyzz = get_pauli_gadget(\"XYZZ\", 0.65, decompose=False)\n",
    "zyxx = get_pauli_gadget(\"ZYXX\", 0.8, decompose=False)\n",
    "xxxx = get_pauli_gadget(\"XXXX\", 0.2, decompose=False)\n",
    "\n",
    "circ = Circuit(4)\n",
    "circ.append(xyzz)\n",
    "circ.append(zyxx)\n",
    "circ.append(xxxx)\n",
    "\n",
    "stored_circ = circ.copy()\n",
    "render_circuit_jupyter(circ)\n",
    "u_before = circ.get_unitary()"
   ]
  },
  {
   "cell_type": "code",
   "execution_count": 11,
   "metadata": {},
   "outputs": [],
   "source": [
    "from pytket.passes import SequencePass, RemoveRedundancies\n",
    "from pauli_gadget_pass import general_pauli_gadget_hi_pass\n",
    "from hseires_decompositions import hseries_squash\n",
    "\n",
    "# idea for a custom sequence\n",
    "custom_seq = SequencePass([general_pauli_gadget_hi_pass, hseries_squash, RemoveRedundancies()])"
   ]
  },
  {
   "cell_type": "code",
   "execution_count": 12,
   "metadata": {},
   "outputs": [
    {
     "data": {
      "text/plain": [
       "True"
      ]
     },
     "execution_count": 12,
     "metadata": {},
     "output_type": "execute_result"
    }
   ],
   "source": [
    "custom_seq.apply(circ)"
   ]
  },
  {
   "cell_type": "code",
   "execution_count": 13,
   "metadata": {},
   "outputs": [
    {
     "data": {
      "text/html": [
       "\n",
       "\n",
       "\n",
       "\n",
       "\n",
       "\n",
       "<iframe srcdoc=\"\n",
       "&lt;!DOCTYPE html&gt;\n",
       "&lt;html lang=&#34;en&#34;&gt;\n",
       "&lt;head&gt;\n",
       "    &lt;meta charset=&#34;UTF-8&#34;&gt;\n",
       "    &lt;script type=&#34;application/javascript&#34; src=&#34;https://cdn.jsdelivr.net/npm/vue@3&#34;&gt;&lt;/script&gt;\n",
       "    &lt;script type=&#34;application/javascript&#34; src=&#34;https://unpkg.com/pytket-circuit-renderer@0.3/dist/pytket-circuit-renderer.umd.js&#34;&gt;&lt;/script&gt;\n",
       "    &lt;link rel=&#34;stylesheet&#34; href=&#34;https://unpkg.com/pytket-circuit-renderer@0.3/dist/pytket-circuit-renderer.css&#34;&gt;\n",
       "&lt;/head&gt;\n",
       "&lt;body&gt;\n",
       "    &lt;div id=&#34;circuit-display-vue-container-a4bed1fa-710c-492f-b479-286ab4c798b8&#34; class=&#34;pytket-circuit-display-container&#34;&gt;\n",
       "        &lt;div style=&#34;display: none&#34;&gt;\n",
       "            &lt;div id=&#34;circuit-json-to-display&#34;&gt;{&#34;bits&#34;: [], &#34;commands&#34;: [{&#34;args&#34;: [[&#34;q&#34;, [1]]], &#34;op&#34;: {&#34;params&#34;: [&#34;1.5&#34;, &#34;0.5&#34;], &#34;type&#34;: &#34;PhasedX&#34;}}, {&#34;args&#34;: [[&#34;q&#34;, [2]]], &#34;op&#34;: {&#34;params&#34;: [&#34;0.5&#34;, &#34;-0.5&#34;], &#34;type&#34;: &#34;PhasedX&#34;}}, {&#34;args&#34;: [[&#34;q&#34;, [3]], [&#34;q&#34;, [2]]], &#34;op&#34;: {&#34;params&#34;: [&#34;0.5&#34;], &#34;type&#34;: &#34;ZZPhase&#34;}}, {&#34;args&#34;: [[&#34;q&#34;, [2]]], &#34;op&#34;: {&#34;params&#34;: [&#34;-1/2&#34;, &#34;0&#34;], &#34;type&#34;: &#34;PhasedX&#34;}}, {&#34;args&#34;: [[&#34;q&#34;, [2]], [&#34;q&#34;, [1]]], &#34;op&#34;: {&#34;params&#34;: [&#34;0.5&#34;], &#34;type&#34;: &#34;ZZPhase&#34;}}, {&#34;args&#34;: [[&#34;q&#34;, [1]]], &#34;op&#34;: {&#34;params&#34;: [&#34;1/2&#34;, &#34;-3/2&#34;], &#34;type&#34;: &#34;PhasedX&#34;}}, {&#34;args&#34;: [[&#34;q&#34;, [1]], [&#34;q&#34;, [0]]], &#34;op&#34;: {&#34;params&#34;: [&#34;0.5&#34;], &#34;type&#34;: &#34;ZZPhase&#34;}}, {&#34;args&#34;: [[&#34;q&#34;, [0]]], &#34;op&#34;: {&#34;params&#34;: [&#34;0.65&#34;, &#34;0.5&#34;], &#34;type&#34;: &#34;PhasedX&#34;}}, {&#34;args&#34;: [[&#34;q&#34;, [1]], [&#34;q&#34;, [0]]], &#34;op&#34;: {&#34;params&#34;: [&#34;-0.5&#34;], &#34;type&#34;: &#34;ZZPhase&#34;}}, {&#34;args&#34;: [[&#34;q&#34;, [0]]], &#34;op&#34;: {&#34;params&#34;: [&#34;0.5&#34;, &#34;-0.5&#34;], &#34;type&#34;: &#34;PhasedX&#34;}}, {&#34;args&#34;: [[&#34;q&#34;, [1]]], &#34;op&#34;: {&#34;params&#34;: [&#34;-1/2&#34;, &#34;-3/2&#34;], &#34;type&#34;: &#34;PhasedX&#34;}}, {&#34;args&#34;: [[&#34;q&#34;, [2]], [&#34;q&#34;, [1]]], &#34;op&#34;: {&#34;params&#34;: [&#34;-0.5&#34;], &#34;type&#34;: &#34;ZZPhase&#34;}}, {&#34;args&#34;: [[&#34;q&#34;, [2]]], &#34;op&#34;: {&#34;params&#34;: [&#34;1/2&#34;, &#34;0&#34;], &#34;type&#34;: &#34;PhasedX&#34;}}, {&#34;args&#34;: [[&#34;q&#34;, [3]], [&#34;q&#34;, [2]]], &#34;op&#34;: {&#34;params&#34;: [&#34;-0.5&#34;], &#34;type&#34;: &#34;ZZPhase&#34;}}, {&#34;args&#34;: [[&#34;q&#34;, [2]]], &#34;op&#34;: {&#34;params&#34;: [&#34;-0.5&#34;, &#34;-0.5&#34;], &#34;type&#34;: &#34;PhasedX&#34;}}, {&#34;args&#34;: [[&#34;q&#34;, [3]]], &#34;op&#34;: {&#34;params&#34;: [&#34;-1.5&#34;, &#34;-1/2&#34;], &#34;type&#34;: &#34;PhasedX&#34;}}, {&#34;args&#34;: [[&#34;q&#34;, [3]], [&#34;q&#34;, [2]]], &#34;op&#34;: {&#34;params&#34;: [&#34;0.5&#34;], &#34;type&#34;: &#34;ZZPhase&#34;}}, {&#34;args&#34;: [[&#34;q&#34;, [2]]], &#34;op&#34;: {&#34;params&#34;: [&#34;1/2&#34;, &#34;0&#34;], &#34;type&#34;: &#34;PhasedX&#34;}}, {&#34;args&#34;: [[&#34;q&#34;, [2]], [&#34;q&#34;, [1]]], &#34;op&#34;: {&#34;params&#34;: [&#34;0.5&#34;], &#34;type&#34;: &#34;ZZPhase&#34;}}, {&#34;args&#34;: [[&#34;q&#34;, [1]]], &#34;op&#34;: {&#34;params&#34;: [&#34;1/2&#34;, &#34;-3/2&#34;], &#34;type&#34;: &#34;PhasedX&#34;}}, {&#34;args&#34;: [[&#34;q&#34;, [1]], [&#34;q&#34;, [0]]], &#34;op&#34;: {&#34;params&#34;: [&#34;0.5&#34;], &#34;type&#34;: &#34;ZZPhase&#34;}}, {&#34;args&#34;: [[&#34;q&#34;, [0]]], &#34;op&#34;: {&#34;params&#34;: [&#34;-0.8&#34;, &#34;0.5&#34;], &#34;type&#34;: &#34;PhasedX&#34;}}, {&#34;args&#34;: [[&#34;q&#34;, [1]], [&#34;q&#34;, [0]]], &#34;op&#34;: {&#34;params&#34;: [&#34;-0.5&#34;], &#34;type&#34;: &#34;ZZPhase&#34;}}, {&#34;args&#34;: [[&#34;q&#34;, [0]]], &#34;op&#34;: {&#34;params&#34;: [&#34;-0.5&#34;, &#34;-0.5&#34;], &#34;type&#34;: &#34;PhasedX&#34;}}, {&#34;args&#34;: [[&#34;q&#34;, [1]]], &#34;op&#34;: {&#34;params&#34;: [&#34;-1/2&#34;, &#34;-3/2&#34;], &#34;type&#34;: &#34;PhasedX&#34;}}, {&#34;args&#34;: [[&#34;q&#34;, [2]], [&#34;q&#34;, [1]]], &#34;op&#34;: {&#34;params&#34;: [&#34;-0.5&#34;], &#34;type&#34;: &#34;ZZPhase&#34;}}, {&#34;args&#34;: [[&#34;q&#34;, [1]]], &#34;op&#34;: {&#34;params&#34;: [&#34;-1.5&#34;, &#34;0.5&#34;], &#34;type&#34;: &#34;PhasedX&#34;}}, {&#34;args&#34;: [[&#34;q&#34;, [2]], [&#34;q&#34;, [1]]], &#34;op&#34;: {&#34;params&#34;: [&#34;0.5&#34;], &#34;type&#34;: &#34;ZZPhase&#34;}}, {&#34;args&#34;: [[&#34;q&#34;, [1]]], &#34;op&#34;: {&#34;params&#34;: [&#34;1/2&#34;, &#34;0&#34;], &#34;type&#34;: &#34;PhasedX&#34;}}, {&#34;args&#34;: [[&#34;q&#34;, [1]], [&#34;q&#34;, [0]]], &#34;op&#34;: {&#34;params&#34;: [&#34;0.5&#34;], &#34;type&#34;: &#34;ZZPhase&#34;}}, {&#34;args&#34;: [[&#34;q&#34;, [0]]], &#34;op&#34;: {&#34;params&#34;: [&#34;0.2&#34;, &#34;0.5&#34;], &#34;type&#34;: &#34;PhasedX&#34;}}, {&#34;args&#34;: [[&#34;q&#34;, [1]], [&#34;q&#34;, [0]]], &#34;op&#34;: {&#34;params&#34;: [&#34;-0.5&#34;], &#34;type&#34;: &#34;ZZPhase&#34;}}, {&#34;args&#34;: [[&#34;q&#34;, [1]]], &#34;op&#34;: {&#34;params&#34;: [&#34;-1/2&#34;, &#34;0&#34;], &#34;type&#34;: &#34;PhasedX&#34;}}, {&#34;args&#34;: [[&#34;q&#34;, [2]], [&#34;q&#34;, [1]]], &#34;op&#34;: {&#34;params&#34;: [&#34;-0.5&#34;], &#34;type&#34;: &#34;ZZPhase&#34;}}, {&#34;args&#34;: [[&#34;q&#34;, [2]]], &#34;op&#34;: {&#34;params&#34;: [&#34;-1/2&#34;, &#34;0&#34;], &#34;type&#34;: &#34;PhasedX&#34;}}, {&#34;args&#34;: [[&#34;q&#34;, [3]], [&#34;q&#34;, [2]]], &#34;op&#34;: {&#34;params&#34;: [&#34;-0.5&#34;], &#34;type&#34;: &#34;ZZPhase&#34;}}, {&#34;args&#34;: [[&#34;q&#34;, [3]]], &#34;op&#34;: {&#34;params&#34;: [&#34;1.5&#34;, &#34;-1/2&#34;], &#34;type&#34;: &#34;PhasedX&#34;}}], &#34;created_qubits&#34;: [], &#34;discarded_qubits&#34;: [], &#34;implicit_permutation&#34;: [[[&#34;q&#34;, [0]], [&#34;q&#34;, [0]]], [[&#34;q&#34;, [1]], [&#34;q&#34;, [1]]], [[&#34;q&#34;, [2]], [&#34;q&#34;, [2]]], [[&#34;q&#34;, [3]], [&#34;q&#34;, [3]]]], &#34;phase&#34;: &#34;0.0&#34;, &#34;qubits&#34;: [[&#34;q&#34;, [0]], [&#34;q&#34;, [1]], [&#34;q&#34;, [2]], [&#34;q&#34;, [3]]]}&lt;/div&gt;\n",
       "        &lt;/div&gt;\n",
       "        &lt;circuit-display-container :circuit-element-str=&#34;&#39;#circuit-json-to-display&#39;&#34;&gt;&lt;/circuit-display-container&gt;\n",
       "    &lt;/div&gt;\n",
       "    &lt;script type=&#34;application/javascript&#34;&gt;\n",
       "        const { createApp } = Vue;\n",
       "        const circuitDisplayContainer = window[&#34;pytket-circuit-renderer&#34;].default;\n",
       "        // Init variables to be shared between circuit display instances\n",
       "        if (typeof window.pytketCircuitDisplays === &#34;undefined&#34;) {\n",
       "            window.pytketCircuitDisplays = {};\n",
       "        }\n",
       "        const uid = &#34;a4bed1fa-710c-492f-b479-286ab4c798b8&#34;;\n",
       "        // Create the root Vue component\n",
       "        const app = createApp({\n",
       "            delimiters: [&#39;[[#&#39;, &#39;#]]&#39;],\n",
       "            components: { circuitDisplayContainer },\n",
       "        })\n",
       "        app.config.unwrapInjectedRef = true;\n",
       "        app.mount(&#34;#circuit-display-vue-container-&#34;+uid);\n",
       "        window.pytketCircuitDisplays[uid] = app;\n",
       "    &lt;/script&gt;\n",
       "&lt;/body&gt;\n",
       "&lt;/html&gt;\n",
       "\"\n",
       "        width=\"100%\" height=\"200px\"\n",
       "        style=\"border: none; outline: none; resize: vertical; overflow: auto\"></iframe>\n",
       "\n"
      ],
      "text/plain": [
       "<IPython.core.display.HTML object>"
      ]
     },
     "metadata": {},
     "output_type": "display_data"
    },
    {
     "name": "stdout",
     "output_type": "stream",
     "text": [
      "ZZPhase count = 16\n"
     ]
    }
   ],
   "source": [
    "from pytket import OpType\n",
    "\n",
    "render_circuit_jupyter(circ)\n",
    "u_after = circ.get_unitary()\n",
    "print(\"ZZPhase count =\",circ.n_gates_of_type(OpType.ZZPhase))"
   ]
  },
  {
   "cell_type": "code",
   "execution_count": 14,
   "metadata": {},
   "outputs": [
    {
     "name": "stdout",
     "output_type": "stream",
     "text": [
      "Unitary matches? True\n"
     ]
    }
   ],
   "source": [
    "print(\"Unitary matches?\", compare_unitaries(u_before, u_after))"
   ]
  },
  {
   "cell_type": "markdown",
   "metadata": {},
   "source": [
    "## Alternating CNOT Decomposition"
   ]
  },
  {
   "cell_type": "code",
   "execution_count": 15,
   "metadata": {},
   "outputs": [],
   "source": [
    "from alternating_cnot_decomposition import hidden_inverse_alternating_cnots\n",
    "\n",
    "circuit = (\n",
    "        Circuit(4)\n",
    "        .H(0)\n",
    "        .CX(0, 1)\n",
    "        .H(1)\n",
    "        .CX(1, 2)\n",
    "        .H(3)\n",
    "        .CX(2, 3)\n",
    "        .H(3)\n",
    "        .CX(0, 1)\n",
    "        .H(1)\n",
    "        .CX(1, 2)\n",
    "        .CX(0, 1)\n",
    "        .H(0)\n",
    "        .H(1)\n",
    "    )\n",
    "\n",
    "u_initial = circuit.get_unitary()"
   ]
  },
  {
   "cell_type": "code",
   "execution_count": 16,
   "metadata": {},
   "outputs": [
    {
     "data": {
      "text/html": [
       "\n",
       "\n",
       "\n",
       "\n",
       "\n",
       "\n",
       "<iframe srcdoc=\"\n",
       "&lt;!DOCTYPE html&gt;\n",
       "&lt;html lang=&#34;en&#34;&gt;\n",
       "&lt;head&gt;\n",
       "    &lt;meta charset=&#34;UTF-8&#34;&gt;\n",
       "    &lt;script type=&#34;application/javascript&#34; src=&#34;https://cdn.jsdelivr.net/npm/vue@3&#34;&gt;&lt;/script&gt;\n",
       "    &lt;script type=&#34;application/javascript&#34; src=&#34;https://unpkg.com/pytket-circuit-renderer@0.3/dist/pytket-circuit-renderer.umd.js&#34;&gt;&lt;/script&gt;\n",
       "    &lt;link rel=&#34;stylesheet&#34; href=&#34;https://unpkg.com/pytket-circuit-renderer@0.3/dist/pytket-circuit-renderer.css&#34;&gt;\n",
       "&lt;/head&gt;\n",
       "&lt;body&gt;\n",
       "    &lt;div id=&#34;circuit-display-vue-container-5f66c4ef-3c04-4974-9cae-37e7906ea89d&#34; class=&#34;pytket-circuit-display-container&#34;&gt;\n",
       "        &lt;div style=&#34;display: none&#34;&gt;\n",
       "            &lt;div id=&#34;circuit-json-to-display&#34;&gt;{&#34;bits&#34;: [], &#34;commands&#34;: [{&#34;args&#34;: [[&#34;q&#34;, [0]]], &#34;op&#34;: {&#34;type&#34;: &#34;H&#34;}}, {&#34;args&#34;: [[&#34;q&#34;, [3]]], &#34;op&#34;: {&#34;type&#34;: &#34;H&#34;}}, {&#34;args&#34;: [[&#34;q&#34;, [0]], [&#34;q&#34;, [1]]], &#34;op&#34;: {&#34;type&#34;: &#34;CX&#34;}}, {&#34;args&#34;: [[&#34;q&#34;, [1]]], &#34;op&#34;: {&#34;type&#34;: &#34;H&#34;}}, {&#34;args&#34;: [[&#34;q&#34;, [1]], [&#34;q&#34;, [2]]], &#34;op&#34;: {&#34;type&#34;: &#34;CX&#34;}}, {&#34;args&#34;: [[&#34;q&#34;, [0]], [&#34;q&#34;, [1]]], &#34;op&#34;: {&#34;type&#34;: &#34;CX&#34;}}, {&#34;args&#34;: [[&#34;q&#34;, [2]], [&#34;q&#34;, [3]]], &#34;op&#34;: {&#34;type&#34;: &#34;CX&#34;}}, {&#34;args&#34;: [[&#34;q&#34;, [1]]], &#34;op&#34;: {&#34;type&#34;: &#34;H&#34;}}, {&#34;args&#34;: [[&#34;q&#34;, [3]]], &#34;op&#34;: {&#34;type&#34;: &#34;H&#34;}}, {&#34;args&#34;: [[&#34;q&#34;, [1]], [&#34;q&#34;, [2]]], &#34;op&#34;: {&#34;type&#34;: &#34;CX&#34;}}, {&#34;args&#34;: [[&#34;q&#34;, [0]], [&#34;q&#34;, [1]]], &#34;op&#34;: {&#34;type&#34;: &#34;CX&#34;}}, {&#34;args&#34;: [[&#34;q&#34;, [0]]], &#34;op&#34;: {&#34;type&#34;: &#34;H&#34;}}, {&#34;args&#34;: [[&#34;q&#34;, [1]]], &#34;op&#34;: {&#34;type&#34;: &#34;H&#34;}}], &#34;created_qubits&#34;: [], &#34;discarded_qubits&#34;: [], &#34;implicit_permutation&#34;: [[[&#34;q&#34;, [0]], [&#34;q&#34;, [0]]], [[&#34;q&#34;, [1]], [&#34;q&#34;, [1]]], [[&#34;q&#34;, [2]], [&#34;q&#34;, [2]]], [[&#34;q&#34;, [3]], [&#34;q&#34;, [3]]]], &#34;phase&#34;: &#34;0.0&#34;, &#34;qubits&#34;: [[&#34;q&#34;, [0]], [&#34;q&#34;, [1]], [&#34;q&#34;, [2]], [&#34;q&#34;, [3]]]}&lt;/div&gt;\n",
       "        &lt;/div&gt;\n",
       "        &lt;circuit-display-container :circuit-element-str=&#34;&#39;#circuit-json-to-display&#39;&#34;&gt;&lt;/circuit-display-container&gt;\n",
       "    &lt;/div&gt;\n",
       "    &lt;script type=&#34;application/javascript&#34;&gt;\n",
       "        const { createApp } = Vue;\n",
       "        const circuitDisplayContainer = window[&#34;pytket-circuit-renderer&#34;].default;\n",
       "        // Init variables to be shared between circuit display instances\n",
       "        if (typeof window.pytketCircuitDisplays === &#34;undefined&#34;) {\n",
       "            window.pytketCircuitDisplays = {};\n",
       "        }\n",
       "        const uid = &#34;5f66c4ef-3c04-4974-9cae-37e7906ea89d&#34;;\n",
       "        // Create the root Vue component\n",
       "        const app = createApp({\n",
       "            delimiters: [&#39;[[#&#39;, &#39;#]]&#39;],\n",
       "            components: { circuitDisplayContainer },\n",
       "        })\n",
       "        app.config.unwrapInjectedRef = true;\n",
       "        app.mount(&#34;#circuit-display-vue-container-&#34;+uid);\n",
       "        window.pytketCircuitDisplays[uid] = app;\n",
       "    &lt;/script&gt;\n",
       "&lt;/body&gt;\n",
       "&lt;/html&gt;\n",
       "\"\n",
       "        width=\"100%\" height=\"200px\"\n",
       "        style=\"border: none; outline: none; resize: vertical; overflow: auto\"></iframe>\n",
       "\n"
      ],
      "text/plain": [
       "<IPython.core.display.HTML object>"
      ]
     },
     "metadata": {},
     "output_type": "display_data"
    }
   ],
   "source": [
    "render_circuit_jupyter(circuit)"
   ]
  },
  {
   "cell_type": "code",
   "execution_count": 17,
   "metadata": {},
   "outputs": [
    {
     "data": {
      "text/html": [
       "\n",
       "\n",
       "\n",
       "\n",
       "\n",
       "\n",
       "<iframe srcdoc=\"\n",
       "&lt;!DOCTYPE html&gt;\n",
       "&lt;html lang=&#34;en&#34;&gt;\n",
       "&lt;head&gt;\n",
       "    &lt;meta charset=&#34;UTF-8&#34;&gt;\n",
       "    &lt;script type=&#34;application/javascript&#34; src=&#34;https://cdn.jsdelivr.net/npm/vue@3&#34;&gt;&lt;/script&gt;\n",
       "    &lt;script type=&#34;application/javascript&#34; src=&#34;https://unpkg.com/pytket-circuit-renderer@0.3/dist/pytket-circuit-renderer.umd.js&#34;&gt;&lt;/script&gt;\n",
       "    &lt;link rel=&#34;stylesheet&#34; href=&#34;https://unpkg.com/pytket-circuit-renderer@0.3/dist/pytket-circuit-renderer.css&#34;&gt;\n",
       "&lt;/head&gt;\n",
       "&lt;body&gt;\n",
       "    &lt;div id=&#34;circuit-display-vue-container-679c4e5d-10cc-43d6-a7ef-e76147d4b05f&#34; class=&#34;pytket-circuit-display-container&#34;&gt;\n",
       "        &lt;div style=&#34;display: none&#34;&gt;\n",
       "            &lt;div id=&#34;circuit-json-to-display&#34;&gt;{&#34;bits&#34;: [], &#34;commands&#34;: [{&#34;args&#34;: [[&#34;q&#34;, [0]]], &#34;op&#34;: {&#34;type&#34;: &#34;H&#34;}}, {&#34;args&#34;: [[&#34;q&#34;, [1]]], &#34;op&#34;: {&#34;params&#34;: [&#34;0.5&#34;, &#34;-0.5&#34;], &#34;type&#34;: &#34;PhasedX&#34;}}, {&#34;args&#34;: [[&#34;q&#34;, [2]]], &#34;op&#34;: {&#34;params&#34;: [&#34;-1.5&#34;], &#34;type&#34;: &#34;Rz&#34;}}, {&#34;args&#34;: [[&#34;q&#34;, [3]]], &#34;op&#34;: {&#34;type&#34;: &#34;H&#34;}}, {&#34;args&#34;: [[&#34;q&#34;, [0]], [&#34;q&#34;, [1]]], &#34;op&#34;: {&#34;params&#34;: [&#34;0.5&#34;], &#34;type&#34;: &#34;ZZPhase&#34;}}, {&#34;args&#34;: [[&#34;q&#34;, [2]]], &#34;op&#34;: {&#34;params&#34;: [&#34;0.5&#34;, &#34;0.0&#34;], &#34;type&#34;: &#34;PhasedX&#34;}}, {&#34;args&#34;: [[&#34;q&#34;, [3]]], &#34;op&#34;: {&#34;params&#34;: [&#34;0.5&#34;, &#34;-0.5&#34;], &#34;type&#34;: &#34;PhasedX&#34;}}, {&#34;args&#34;: [[&#34;q&#34;, [0]]], &#34;op&#34;: {&#34;params&#34;: [&#34;3.5&#34;], &#34;type&#34;: &#34;Rz&#34;}}, {&#34;args&#34;: [[&#34;q&#34;, [1]]], &#34;op&#34;: {&#34;params&#34;: [&#34;-0.5&#34;, &#34;0.0&#34;], &#34;type&#34;: &#34;PhasedX&#34;}}, {&#34;args&#34;: [[&#34;q&#34;, [0]]], &#34;op&#34;: {&#34;params&#34;: [&#34;-3.5&#34;], &#34;type&#34;: &#34;Rz&#34;}}, {&#34;args&#34;: [[&#34;q&#34;, [1]]], &#34;op&#34;: {&#34;params&#34;: [&#34;1.5&#34;], &#34;type&#34;: &#34;Rz&#34;}}, {&#34;args&#34;: [[&#34;q&#34;, [1]]], &#34;op&#34;: {&#34;type&#34;: &#34;H&#34;}}, {&#34;args&#34;: [[&#34;q&#34;, [1]]], &#34;op&#34;: {&#34;params&#34;: [&#34;-3.5&#34;], &#34;type&#34;: &#34;Rz&#34;}}, {&#34;args&#34;: [[&#34;q&#34;, [1]], [&#34;q&#34;, [2]]], &#34;op&#34;: {&#34;params&#34;: [&#34;-0.5&#34;], &#34;type&#34;: &#34;ZZPhase&#34;}}, {&#34;args&#34;: [[&#34;q&#34;, [1]]], &#34;op&#34;: {&#34;params&#34;: [&#34;-1.5&#34;], &#34;type&#34;: &#34;Rz&#34;}}, {&#34;args&#34;: [[&#34;q&#34;, [2]]], &#34;op&#34;: {&#34;params&#34;: [&#34;-0.5&#34;, &#34;-0.5&#34;], &#34;type&#34;: &#34;PhasedX&#34;}}, {&#34;args&#34;: [[&#34;q&#34;, [1]]], &#34;op&#34;: {&#34;params&#34;: [&#34;0.5&#34;, &#34;0.0&#34;], &#34;type&#34;: &#34;PhasedX&#34;}}, {&#34;args&#34;: [[&#34;q&#34;, [2]], [&#34;q&#34;, [3]]], &#34;op&#34;: {&#34;params&#34;: [&#34;0.5&#34;], &#34;type&#34;: &#34;ZZPhase&#34;}}, {&#34;args&#34;: [[&#34;q&#34;, [0]], [&#34;q&#34;, [1]]], &#34;op&#34;: {&#34;params&#34;: [&#34;-0.5&#34;], &#34;type&#34;: &#34;ZZPhase&#34;}}, {&#34;args&#34;: [[&#34;q&#34;, [2]]], &#34;op&#34;: {&#34;params&#34;: [&#34;3.5&#34;], &#34;type&#34;: &#34;Rz&#34;}}, {&#34;args&#34;: [[&#34;q&#34;, [3]]], &#34;op&#34;: {&#34;params&#34;: [&#34;-0.5&#34;, &#34;0.0&#34;], &#34;type&#34;: &#34;PhasedX&#34;}}, {&#34;args&#34;: [[&#34;q&#34;, [1]]], &#34;op&#34;: {&#34;params&#34;: [&#34;-0.5&#34;, &#34;-0.5&#34;], &#34;type&#34;: &#34;PhasedX&#34;}}, {&#34;args&#34;: [[&#34;q&#34;, [2]]], &#34;op&#34;: {&#34;params&#34;: [&#34;0.5&#34;, &#34;-0.5&#34;], &#34;type&#34;: &#34;PhasedX&#34;}}, {&#34;args&#34;: [[&#34;q&#34;, [3]]], &#34;op&#34;: {&#34;params&#34;: [&#34;1.5&#34;], &#34;type&#34;: &#34;Rz&#34;}}, {&#34;args&#34;: [[&#34;q&#34;, [1]]], &#34;op&#34;: {&#34;type&#34;: &#34;H&#34;}}, {&#34;args&#34;: [[&#34;q&#34;, [3]]], &#34;op&#34;: {&#34;type&#34;: &#34;H&#34;}}, {&#34;args&#34;: [[&#34;q&#34;, [1]], [&#34;q&#34;, [2]]], &#34;op&#34;: {&#34;params&#34;: [&#34;0.5&#34;], &#34;type&#34;: &#34;ZZPhase&#34;}}, {&#34;args&#34;: [[&#34;q&#34;, [1]]], &#34;op&#34;: {&#34;params&#34;: [&#34;3.5&#34;], &#34;type&#34;: &#34;Rz&#34;}}, {&#34;args&#34;: [[&#34;q&#34;, [2]]], &#34;op&#34;: {&#34;params&#34;: [&#34;-0.5&#34;, &#34;0.0&#34;], &#34;type&#34;: &#34;PhasedX&#34;}}, {&#34;args&#34;: [[&#34;q&#34;, [1]]], &#34;op&#34;: {&#34;params&#34;: [&#34;0.5&#34;, &#34;-0.5&#34;], &#34;type&#34;: &#34;PhasedX&#34;}}, {&#34;args&#34;: [[&#34;q&#34;, [2]]], &#34;op&#34;: {&#34;params&#34;: [&#34;1.5&#34;], &#34;type&#34;: &#34;Rz&#34;}}, {&#34;args&#34;: [[&#34;q&#34;, [0]], [&#34;q&#34;, [1]]], &#34;op&#34;: {&#34;params&#34;: [&#34;0.5&#34;], &#34;type&#34;: &#34;ZZPhase&#34;}}, {&#34;args&#34;: [[&#34;q&#34;, [0]]], &#34;op&#34;: {&#34;params&#34;: [&#34;3.5&#34;], &#34;type&#34;: &#34;Rz&#34;}}, {&#34;args&#34;: [[&#34;q&#34;, [1]]], &#34;op&#34;: {&#34;params&#34;: [&#34;-0.5&#34;, &#34;0.0&#34;], &#34;type&#34;: &#34;PhasedX&#34;}}, {&#34;args&#34;: [[&#34;q&#34;, [0]]], &#34;op&#34;: {&#34;type&#34;: &#34;H&#34;}}, {&#34;args&#34;: [[&#34;q&#34;, [1]]], &#34;op&#34;: {&#34;params&#34;: [&#34;1.5&#34;], &#34;type&#34;: &#34;Rz&#34;}}, {&#34;args&#34;: [[&#34;q&#34;, [1]]], &#34;op&#34;: {&#34;type&#34;: &#34;H&#34;}}], &#34;created_qubits&#34;: [], &#34;discarded_qubits&#34;: [], &#34;implicit_permutation&#34;: [[[&#34;q&#34;, [0]], [&#34;q&#34;, [0]]], [[&#34;q&#34;, [1]], [&#34;q&#34;, [1]]], [[&#34;q&#34;, [2]], [&#34;q&#34;, [2]]], [[&#34;q&#34;, [3]], [&#34;q&#34;, [3]]]], &#34;phase&#34;: &#34;0.0&#34;, &#34;qubits&#34;: [[&#34;q&#34;, [0]], [&#34;q&#34;, [1]], [&#34;q&#34;, [2]], [&#34;q&#34;, [3]]]}&lt;/div&gt;\n",
       "        &lt;/div&gt;\n",
       "        &lt;circuit-display-container :circuit-element-str=&#34;&#39;#circuit-json-to-display&#39;&#34;&gt;&lt;/circuit-display-container&gt;\n",
       "    &lt;/div&gt;\n",
       "    &lt;script type=&#34;application/javascript&#34;&gt;\n",
       "        const { createApp } = Vue;\n",
       "        const circuitDisplayContainer = window[&#34;pytket-circuit-renderer&#34;].default;\n",
       "        // Init variables to be shared between circuit display instances\n",
       "        if (typeof window.pytketCircuitDisplays === &#34;undefined&#34;) {\n",
       "            window.pytketCircuitDisplays = {};\n",
       "        }\n",
       "        const uid = &#34;679c4e5d-10cc-43d6-a7ef-e76147d4b05f&#34;;\n",
       "        // Create the root Vue component\n",
       "        const app = createApp({\n",
       "            delimiters: [&#39;[[#&#39;, &#39;#]]&#39;],\n",
       "            components: { circuitDisplayContainer },\n",
       "        })\n",
       "        app.config.unwrapInjectedRef = true;\n",
       "        app.mount(&#34;#circuit-display-vue-container-&#34;+uid);\n",
       "        window.pytketCircuitDisplays[uid] = app;\n",
       "    &lt;/script&gt;\n",
       "&lt;/body&gt;\n",
       "&lt;/html&gt;\n",
       "\"\n",
       "        width=\"100%\" height=\"200px\"\n",
       "        style=\"border: none; outline: none; resize: vertical; overflow: auto\"></iframe>\n",
       "\n"
      ],
      "text/plain": [
       "<IPython.core.display.HTML object>"
      ]
     },
     "metadata": {},
     "output_type": "display_data"
    }
   ],
   "source": [
    "hidden_inverse_alternating_cnots.apply(circuit)\n",
    "u_final = circuit.get_unitary()\n",
    "render_circuit_jupyter(circuit)"
   ]
  },
  {
   "cell_type": "code",
   "execution_count": 18,
   "metadata": {},
   "outputs": [
    {
     "name": "stdout",
     "output_type": "stream",
     "text": [
      "Unitary preserved? True\n"
     ]
    }
   ],
   "source": [
    "print(\"Unitary preserved?\", compare_unitaries(u_initial, u_final))"
   ]
  },
  {
   "cell_type": "markdown",
   "metadata": {},
   "source": [
    "## Ideas and Future Directions\n",
    "\n",
    "1. Run some phase/pauli gadgets on H-series emulator/real device. Find out if coherent errors are suppressed\n",
    "2. Test out this method for QEC gadgets (Maybe on real hardware? Talk more to Ben and Natalie).\n",
    "3. Test this out with classical `ToffoliBox` circuits?\n",
    "4. Figure out how this might play nicely with `OptimisePhaseGadgets` and `PauliSimp`.\n",
    "5. Benchmark performance of alternating CNOT decomposition post `FullPeepholeOptimise`\n",
    "6. Clean up and generalise code. Integrate into TKET somehow?\n"
   ]
  }
 ],
 "metadata": {
  "kernelspec": {
   "display_name": "Python 3 (ipykernel)",
   "language": "python",
   "name": "python3"
  },
  "language_info": {
   "codemirror_mode": {
    "name": "ipython",
    "version": 3
   },
   "file_extension": ".py",
   "mimetype": "text/x-python",
   "name": "python",
   "nbconvert_exporter": "python",
   "pygments_lexer": "ipython3",
   "version": "3.10.6"
  },
  "vscode": {
   "interpreter": {
    "hash": "3289aa74b4cc5b65254d7b081e6c83acb4efa1b1c1d2fe845644451ee4b44b02"
   }
  }
 },
 "nbformat": 4,
 "nbformat_minor": 4
}
